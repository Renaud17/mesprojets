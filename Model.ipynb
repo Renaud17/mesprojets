{
  "nbformat": 4,
  "nbformat_minor": 0,
  "metadata": {
    "kernelspec": {
      "name": "python3",
      "display_name": "Python 3",
      "language": "python"
    },
    "language_info": {
      "name": "python",
      "version": "3.6.4",
      "mimetype": "text/x-python",
      "codemirror_mode": {
        "name": "ipython",
        "version": 3
      },
      "pygments_lexer": "ipython3",
      "nbconvert_exporter": "python",
      "file_extension": ".py"
    },
    "gist": {
      "id": "",
      "data": {
        "description": "Part2_MobileDataset.ipynb",
        "public": true
      }
    },
    "colab": {
      "name": "Copie de Part2_MobileDataSet_Gridsearch.ipynb",
      "provenance": []
    }
  },
  "cells": [
    {
      "cell_type": "code",
      "metadata": {
        "id": "94IobCJWCOyv",
        "colab_type": "code",
        "outputId": "470c6dcb-4c43-4fbf-dcff-c7f4c44bffc8",
        "colab": {
          "base_uri": "https://localhost:8080/",
          "height": 122
        }
      },
      "source": [
        "from google.colab import drive\n",
        "drive.mount('/content/drive/')"
      ],
      "execution_count": 1,
      "outputs": [
        {
          "output_type": "stream",
          "text": [
            "Go to this URL in a browser: https://accounts.google.com/o/oauth2/auth?client_id=947318989803-6bn6qk8qdgf4n4g3pfee6491hc0brc4i.apps.googleusercontent.com&redirect_uri=urn%3aietf%3awg%3aoauth%3a2.0%3aoob&response_type=code&scope=email%20https%3a%2f%2fwww.googleapis.com%2fauth%2fdocs.test%20https%3a%2f%2fwww.googleapis.com%2fauth%2fdrive%20https%3a%2f%2fwww.googleapis.com%2fauth%2fdrive.photos.readonly%20https%3a%2f%2fwww.googleapis.com%2fauth%2fpeopleapi.readonly\n",
            "\n",
            "Enter your authorization code:\n",
            "··········\n",
            "Mounted at /content/drive/\n"
          ],
          "name": "stdout"
        }
      ]
    },
    {
      "cell_type": "code",
      "metadata": {
        "id": "eFREj1r9CR_C",
        "colab_type": "code",
        "colab": {}
      },
      "source": [
        "import os\n",
        "os.chdir(\"/content/drive/My Drive/DATASCIENCE/Projet\")"
      ],
      "execution_count": 0,
      "outputs": []
    },
    {
      "cell_type": "code",
      "metadata": {
        "trusted": true,
        "id": "36lBpxXQB33_",
        "colab_type": "code",
        "colab": {}
      },
      "source": [
        "import pandas as pd\n",
        "import numpy as np\n",
        "import seaborn as sns\n",
        "import os, sys, datetime, re\n",
        "from functools import partial\n",
        "\n",
        "from sklearn.preprocessing import StandardScaler\n",
        "from sklearn.compose import ColumnTransformer\n",
        "from sklearn.preprocessing import OneHotEncoder, FunctionTransformer,LabelEncoder\n",
        "from sklearn.model_selection import train_test_split, GridSearchCV\n",
        "from sklearn.feature_extraction.text import CountVectorizer, TfidfVectorizer\n",
        "from sklearn.metrics import accuracy_score, confusion_matrix\n",
        "from sklearn.metrics import classification_report\n",
        "\n",
        "from sklearn.linear_model import SGDClassifier\n",
        "from sklearn.pipeline import Pipeline, FeatureUnion\n",
        "from sklearn.feature_extraction.text import TfidfTransformer\n",
        "\n",
        "import matplotlib.pyplot as plt"
      ],
      "execution_count": 0,
      "outputs": []
    },
    {
      "cell_type": "markdown",
      "metadata": {
        "id": "0794oDpcB34R",
        "colab_type": "text"
      },
      "source": [
        "# New Text Preprocessing/Cleaning Function"
      ]
    },
    {
      "cell_type": "code",
      "metadata": {
        "id": "10P0r2V2EL6Y",
        "colab_type": "code",
        "colab": {
          "base_uri": "https://localhost:8080/",
          "height": 122
        },
        "outputId": "784161d9-2448-47b1-f34f-f802eaa421f7"
      },
      "source": [
        "pip install unidecode\n"
      ],
      "execution_count": 8,
      "outputs": [
        {
          "output_type": "stream",
          "text": [
            "Collecting unidecode\n",
            "\u001b[?25l  Downloading https://files.pythonhosted.org/packages/d0/42/d9edfed04228bacea2d824904cae367ee9efd05e6cce7ceaaedd0b0ad964/Unidecode-1.1.1-py2.py3-none-any.whl (238kB)\n",
            "\r\u001b[K     |█▍                              | 10kB 17.6MB/s eta 0:00:01\r\u001b[K     |██▊                             | 20kB 2.2MB/s eta 0:00:01\r\u001b[K     |████▏                           | 30kB 3.2MB/s eta 0:00:01\r\u001b[K     |█████▌                          | 40kB 2.1MB/s eta 0:00:01\r\u001b[K     |██████▉                         | 51kB 2.6MB/s eta 0:00:01\r\u001b[K     |████████▎                       | 61kB 3.1MB/s eta 0:00:01\r\u001b[K     |█████████▋                      | 71kB 3.6MB/s eta 0:00:01\r\u001b[K     |███████████                     | 81kB 4.1MB/s eta 0:00:01\r\u001b[K     |████████████▍                   | 92kB 4.6MB/s eta 0:00:01\r\u001b[K     |█████████████▊                  | 102kB 3.5MB/s eta 0:00:01\r\u001b[K     |███████████████▏                | 112kB 3.5MB/s eta 0:00:01\r\u001b[K     |████████████████▌               | 122kB 3.5MB/s eta 0:00:01\r\u001b[K     |█████████████████▉              | 133kB 3.5MB/s eta 0:00:01\r\u001b[K     |███████████████████▎            | 143kB 3.5MB/s eta 0:00:01\r\u001b[K     |████████████████████▋           | 153kB 3.5MB/s eta 0:00:01\r\u001b[K     |██████████████████████          | 163kB 3.5MB/s eta 0:00:01\r\u001b[K     |███████████████████████▍        | 174kB 3.5MB/s eta 0:00:01\r\u001b[K     |████████████████████████▊       | 184kB 3.5MB/s eta 0:00:01\r\u001b[K     |██████████████████████████▏     | 194kB 3.5MB/s eta 0:00:01\r\u001b[K     |███████████████████████████▌    | 204kB 3.5MB/s eta 0:00:01\r\u001b[K     |████████████████████████████▉   | 215kB 3.5MB/s eta 0:00:01\r\u001b[K     |██████████████████████████████▎ | 225kB 3.5MB/s eta 0:00:01\r\u001b[K     |███████████████████████████████▋| 235kB 3.5MB/s eta 0:00:01\r\u001b[K     |████████████████████████████████| 245kB 3.5MB/s \n",
            "\u001b[?25hInstalling collected packages: unidecode\n",
            "Successfully installed unidecode-1.1.1\n"
          ],
          "name": "stdout"
        }
      ]
    },
    {
      "cell_type": "code",
      "metadata": {
        "trusted": true,
        "id": "kujJKemwB34T",
        "colab_type": "code",
        "outputId": "c9a46fd9-8b74-4632-a7d2-ec2d474610af",
        "colab": {
          "base_uri": "https://localhost:8080/",
          "height": 51
        }
      },
      "source": [
        "# Text pre-processing modules\n",
        "from bs4 import BeautifulSoup\n",
        "import unidecode\n",
        "import spacy, en_core_web_sm\n",
        "nlp = spacy.load('en_core_web_sm', disable=['parser', 'ner']) \n",
        "from nltk.corpus import stopwords \n",
        "import nltk\n",
        "nltk.download('stopwords')\n",
        "from nltk.tokenize import word_tokenize\n",
        "from nltk.stem import PorterStemmer\n",
        "STOPWORDS = set(stopwords.words('english')) \n",
        "\n",
        "# Compile regular expression\n",
        "SPEC_CHARS_REPLACE_BY_SPACE = re.compile('[/(){}\\[\\]\\|@,;]')\n",
        "SPEC_CHARS = re.compile(r'[^a-zA-z0-9\\s]')\n",
        "SPEC_CHARS_INCLUDE_DIGITS = re.compile(r'[^a-zA-z\\s]')\n",
        "EXTRA_NEWLINES = re.compile(r'[\\r|\\n|\\r\\n]+')\n",
        "\n",
        "\n",
        "## Functions for text preprocessing, cleaning\n",
        "\n",
        "def strip_htmltags(text):\n",
        "    soup = BeautifulSoup(text,\"lxml\")\n",
        "    return soup.get_text()\n",
        "\n",
        "def replace_accented_chars(text):\n",
        "    return unidecode.unidecode(text)\n",
        "\n",
        "def stem_text(text):\n",
        "    ps = PorterStemmer()\n",
        "    modified_txt = ' '.join([ps.stem(word) for word in text.split()])\n",
        "    return modified_txt    \n",
        "\n",
        "def lemmatize(text):\n",
        "    modified_text = nlp(text)\n",
        "    return ' '.join([word.lemma_ if word.lemma_ != '-PRON-' else word.text for word in modified_text])\n",
        "\n",
        "def normalize(text, method='stem'):\n",
        "    \"\"\" Text normalization to generate the root form of the inflected words.\n",
        "        This is done by either \"stem\" or \"lemmatize\" the text as defined by the 'method' arguments.  \n",
        "        Note that using \"lemmatize\" will take much longer to run compared to \"stem\".\n",
        "    \"\"\"\n",
        "    if method == 'stem':\n",
        "        return stem_text(text)\n",
        "    if method == 'lemmatize':\n",
        "        return lemmatize(text)\n",
        "    print('Please choose either \"stem\" or \"lemmatize\" method to normalize.')\n",
        "    return text\n",
        "\n",
        "def rm_special_chars(text, rm_digits=False):\n",
        "    # remove & replace below special chars with space\n",
        "    modified_txt = SPEC_CHARS_REPLACE_BY_SPACE.sub(' ', text)\n",
        "    \n",
        "    # remove rest of special chars, no replacing with space\n",
        "    if rm_digits:\n",
        "        return SPEC_CHARS_INCLUDE_DIGITS.sub('', modified_txt)\n",
        "    else:\n",
        "        return SPEC_CHARS.sub('', modified_txt)\n",
        "\n",
        "def rm_extra_newlines_and_whitespace(text):\n",
        "    # rm extra newlines\n",
        "    modified_txt =  EXTRA_NEWLINES.sub(' ', text)\n",
        "    \n",
        "    # rm extra whitespaces\n",
        "    return re.sub(r'\\s+', ' ', modified_txt)\n",
        "\n",
        "def rm_stopwords(text, simple=True):\n",
        "    \"\"\" Remove stopwords using either the simple model with replacement.\n",
        "        or using nltk.tokenize to split the words and replace each words. This will incur speed penalty.\n",
        "    \"\"\"\n",
        "    if simple:\n",
        "        return ' '.join(word for word in text.split() if word not in STOPWORDS)\n",
        "    else:\n",
        "        tokens = word_tokenize(text)\n",
        "        tokens = [token.strip() for token in tokens]\n",
        "        return ' '.join(word for word in tokens if word not in STOPWORDS)\n",
        "\n",
        "\n",
        "def clean_text(raw_text, strip_html = True, replace_accented = True,\n",
        "                normalize_text = True, normalize_methd = 'stem',\n",
        "                remove_special_chars = True, remove_digits = True,\n",
        "                remove_stopwords = True, rm_stopwords_simple_mode = True):\n",
        "\n",
        "    \"\"\" The combined function for all the various preprocessing method. \n",
        "        Keyword args:\n",
        "            strip_html               : Remove html tags.\n",
        "            replace_accented         : Convert accented characters to closest English characters.\n",
        "            normalize_text           : Normalize text based on normalize_methd.\n",
        "            normalize_methd          : \"stem\" or \"lemmatize\". Default \"stem\".\n",
        "            remove_special_chars     : Remove special chars.\n",
        "            remove_digits            : Remove digits/numeric as special characters.\n",
        "            remove_stopwords         : Stopwords removal basedon NLTK corpus.\n",
        "            rm_stopwords_simple_mode : skip tokenize before stopword removal. Speed up time.\n",
        "    \"\"\"\n",
        "    \n",
        "    text = raw_text.lower()\n",
        "    \n",
        "    if strip_html:\n",
        "        text = strip_htmltags(text)\n",
        "    if replace_accented:\n",
        "        text = replace_accented_chars(text)\n",
        "    if remove_special_chars:\n",
        "        text = rm_special_chars(text, remove_digits)    \n",
        "    if normalize_text:\n",
        "        text = normalize(text, normalize_methd)\n",
        "    if remove_stopwords:\n",
        "        text = rm_stopwords(text, rm_stopwords_simple_mode)\n",
        "        \n",
        "    text = rm_extra_newlines_and_whitespace(text)  \n",
        "    \n",
        "    return text"
      ],
      "execution_count": 9,
      "outputs": [
        {
          "output_type": "stream",
          "text": [
            "[nltk_data] Downloading package stopwords to /root/nltk_data...\n",
            "[nltk_data]   Unzipping corpora/stopwords.zip.\n"
          ],
          "name": "stdout"
        }
      ]
    },
    {
      "cell_type": "markdown",
      "metadata": {
        "id": "QPxdFWY-B34d",
        "colab_type": "text"
      },
      "source": [
        "# Import Data and basic processing on dataset"
      ]
    },
    {
      "cell_type": "code",
      "metadata": {
        "trusted": true,
        "id": "XTzNIo9lB34f",
        "colab_type": "code",
        "colab": {}
      },
      "source": [
        "fname = 'commerce.csv'\n",
        "df = pd.read_csv(fname, header=0,sep=';')\n",
        "\n",
        "# replace nan with best value based on exploration\n",
        "df['Name'] = df['Name'].fillna(df['Name'].mode()[0])\n",
        "\n",
        "\n",
        "# Convert attributes to integer\n",
        "for col in [ 'Name']:\n",
        "    df[col] = df[col].fillna(-1)\n",
        "    #df[col] = df[col].astype('int')\n",
        "    df[col] = df[col].astype('str')\n",
        "    df[col] = df[col].replace('-1', np.nan)\n",
        "\n",
        "# Apply the new clean text function\n",
        "clean_text_p = partial(clean_text, strip_html = False, remove_digits = False,\n",
        "                       normalize_text = False, normalize_methd = 'stem')\n",
        "\n",
        "df['title1'] = df['Name'].apply(clean_text_p)"
      ],
      "execution_count": 0,
      "outputs": []
    },
    {
      "cell_type": "code",
      "metadata": {
        "id": "p7ohMBW8V6bY",
        "colab_type": "code",
        "outputId": "a6fbf151-fdd3-4127-bd42-f92e57df4c48",
        "colab": {
          "base_uri": "https://localhost:8080/",
          "height": 1000
        }
      },
      "source": [
        "df['title1'].unique()"
      ],
      "execution_count": 11,
      "outputs": [
        {
          "output_type": "execute_result",
          "data": {
            "text/plain": [
              "array(['lg smart tv led 55 4k recepteur integre',\n",
              "       'televiseur telefunken e700a 49 smart full hd led wifi',\n",
              "       'lg tv led 49', 'televiseur samsung k6000 43 full hd smart',\n",
              "       'televiseur samsung smart full hd 40 serie 5 wifi',\n",
              "       'televiseur maxwell led 55 curved smart 4k wifi gold',\n",
              "       'condor televiseur full hd 40 bleu',\n",
              "       'condor televiseur hd 32 1 iptv',\n",
              "       'televiseur samsung 49 full hd k5100 series 5',\n",
              "       'televiseur samsung smart full hd 43 serie 5 wifi',\n",
              "       'samsung 48 full hd smart tv', 'televiseur condor full hd 50 gold',\n",
              "       'televiseur maxwell vega led 55 smart ultra hd 4k wifi silver',\n",
              "       'televiseur telefunken e2000 32 led hd',\n",
              "       'imprimante 4en1 epson workeforce pro wf5620dwf couleur wifi',\n",
              "       'imprimante couleur reservoir integre a3 epson l1300',\n",
              "       'imprimante matricielle epson lx350',\n",
              "       'imprimante photo epson l810 reservoir integre couleur',\n",
              "       'imprimante matricielle epson lq350',\n",
              "       'imprimante multifonction couleur 3en1 reservoir integre epson l386',\n",
              "       'imprimante monofonction reservoir integre a4 epson l120',\n",
              "       'brother imprimante jet dencre dcpt300 multifonction couleur',\n",
              "       'hp imprimante multifonction jet dencre couleur 3 en 1 deskjet gt5810 bouteille dencre authentique hp gt51xl offerte',\n",
              "       'imprimante de ticket epson tmt20il',\n",
              "       'hp deskjet ink advantage 3835 imprimante allinone',\n",
              "       'hp imprimante multifonction deskjet ink advantage 2135 aio',\n",
              "       'imprimante photo epson l805 couleur wifi',\n",
              "       'imprimante ticket monochrome epson tm t20ii ethernet c31cd52007',\n",
              "       'imprimante couleur 4en1 reservoir integre epson l565',\n",
              "       'imprimante jet dencre reservoir integre 3en1 couleur a4 epson l486',\n",
              "       'imprimante photo epson l1800',\n",
              "       'imprimante epson l365 3en1 couleur a4',\n",
              "       'imprimante monochrome 3en1 jet encre reservoir integre epson workforce m200',\n",
              "       'imprimante hp laserjet pro mfp m130fn',\n",
              "       'hp deskjet ink advantage 1115',\n",
              "       'imprimante multifonction hp deskjet 2136 couleur',\n",
              "       'hp imprimante laserjet pro mfp m130a',\n",
              "       'hp imprimante laserjet pro m102w monochrome wifi',\n",
              "       'imprimante multifonction couleur 3 en 1 reservoir integre epson l382',\n",
              "       'hp imprimante multifonction jet dencre couleur 3 en 1 deskjet gt5810',\n",
              "       'imprimante jet dencre couleur a4 epson l310',\n",
              "       'imprimante multifonction epson l 605 couleur wifi',\n",
              "       'pc de bureau lenovo one ideacentre aio 310 dual core 4go 500go',\n",
              "       'pc de bureau dell optiplex 3040mt i7 4gb',\n",
              "       'pc de bureau dell vostro 3667 i3 6e gen 4 go 500 go sata',\n",
              "       'pc de bureau dell optiplex 7040mt i7 6e gen 4go',\n",
              "       'pc de bureau dell optiplex 7040mt i7 6e gen 4go ecran 20',\n",
              "       'pc de bureau dell optiplex 3050mt i5 7e gen 4 go',\n",
              "       'hp pc de bureau prodesk 400 g3 i5 6e gen 4 go 500go',\n",
              "       'hp ecran 27ea ips led full hd',\n",
              "       'pc de bureau lenovo one s200z pentium quad core 4go 500go blanc',\n",
              "       'hp 280 g2 intel hd 500go 4go', 'ecran hp 19 5 led 20 kd',\n",
              "       'pc de bureau dell optiplex 3020mt intel r core tm i3 free dos ecran 20',\n",
              "       'pc de bureau dell optiplex 7020mt ecran 20',\n",
              "       'pc de bureau optiplex 3050 mt i3 7e gen 4go 500go',\n",
              "       'pc de bureau dell optiplex 7020mt', 'ecran dell 27led full hd',\n",
              "       'pc de bureau dell optiplex 3040mt ecran 20 i3 6e gen 4go',\n",
              "       'pc de bureau allinone tactile dell inspiron 3264 i5 7e gen 8go',\n",
              "       'ecran dell 215', 'ecran dell 238',\n",
              "       'pc de bureau lenovo one s200z dual core 4go 500go noir',\n",
              "       'pc de bureau dell vostro 3668 dual core 4go 500go',\n",
              "       'pc de bureau hp one 22b304nk tactile i5 7e gen 8 go',\n",
              "       'pc de bureau lenovo one s200z pentium quad core 4go 500go noir',\n",
              "       'pc de bureau optiplex 3050 mt i3 7e gen 4go 500go ecran 195 garantie 3 ans',\n",
              "       'pc de bureau dell vostro 3668 i5 7e gen 4 go 1to sata',\n",
              "       'ordinateur de bureau optiplex 3050 mt i78gb1tbfree',\n",
              "       'pc de bureau lenovo v520 i3 7eme gen 4 go 1to',\n",
              "       'pc de bureau dell optiplex 5050mt i5 7e gen 4 go 500go sata',\n",
              "       'pc portable dell xps 13 i5 7e gen 8 go',\n",
              "       'pc portable dell inspiron 5570 i5 8e gen 8go 1to gold',\n",
              "       'pc portable dell inspiron 5570 i7 8e gen 8go 1to gold',\n",
              "       'pc portable dell inspiron 5570 i5 8e gen 8go 1to silver',\n",
              "       'pc portable dell inspiron 5570 i5 8e gen 8go 1to noir',\n",
              "       'pc portable dell inspiron 3552 dualcore 4go 500go noir',\n",
              "       'pc portable dell inspiron 7577 i7 7e gen 24 go',\n",
              "       'pc portable dell vostro 5468 i7 7e gen 12 go',\n",
              "       'pc gamer dell inspiron 7567 i7 7e gen 16 go rouge',\n",
              "       'dell inspiron 7567 pc gamer i7 7e gen 16go 1to',\n",
              "       'dell inspiron 3567 pc portable i7 7e gen 8 go noir',\n",
              "       'dell inspiron 3567 pc portable i5 7eme gen 6go 1to noir',\n",
              "       'pc portable dell inspiron 7577 i7 7e gen 16 go rouge',\n",
              "       'pc portable dell inspiron 7577 i7 7e gen 16 go noir',\n",
              "       'pc portable dell vostro 5468 i7 7e gen 16 go',\n",
              "       'asus pc portable x541sa quad core 4go 500go noir',\n",
              "       'asus pc portable x541uj i5 7e gen 8go 1to blanc',\n",
              "       'pc gamer asus strix gl753ve i7 7e gen 16 go',\n",
              "       'asus pc portable x541uj i7 7e gen 8go 1to rouge',\n",
              "       'pc gamer asus strix g502vm i7 7e gen 8 go',\n",
              "       'asus pc gamer gl703vd i7 7e gen 8go 1to 128go ssd win10',\n",
              "       'asus pc portable x541ua i3 6e gen 4go 500go bleu',\n",
              "       'asus pc portable x541uj i5 7e gen 8go 1to silver',\n",
              "       'asus pc portable vivobook flip 12 tp203nah dual core 2 go gold',\n",
              "       'pc portable asus strix g702vs i7 7e gen 16 go',\n",
              "       'asus pc portable i3 6e gen 4go 500go blanc',\n",
              "       'asus pc gamer strix gl503vd i7 7e gen 12 go 1to128 go ssd',\n",
              "       'pc portablee asus fx503vd i7 7e gen 16 go',\n",
              "       'asus pc portable x541ua i3 6eme gen 4go 500go noir',\n",
              "       'pc portable hp envy 13ad003nk i7 7e gen 8go 256go ssd',\n",
              "       'pc portable hp elitebook x360 8 go',\n",
              "       'pc portable hp notebook 15bs015nk i3 6e gen 4go 500go',\n",
              "       'hp pc portable 15ay055nk i3 6e 4go 500go',\n",
              "       'hp 15ay102nk intel r core tm i7 7e generation 8go 1to',\n",
              "       'pc portable hp probook 650 g3 i5 7e gen 8 go',\n",
              "       'hp pc portable 15ay026nk celeron r n3060 4go 500go',\n",
              "       'pc portable hp notebook 15bs041nk i5 8go 1to noir',\n",
              "       'pc gamer hp omen w100nk i7 6e gen 16go 1to 256go ssd',\n",
              "       'pc portable hp omen 15ce004nk i7 7e gen 16 go',\n",
              "       'pc portable dell inspiron 5570 i7 8e gen 8go 1to silver',\n",
              "       'lenovo pc portable ideapad 32015ikbra i5 8e gen 16go 1to noir',\n",
              "       'lenovo pc portable ideapad 32015ikbra i5 8e gen 12go 1to noir',\n",
              "       'lenovo ideapad 52015ikbr i78550u 4go 2to',\n",
              "       'pc portable lenovo ideapad 11015ibr dual core 4go 500go',\n",
              "       'lenovo pc portable ideapad 32015isk i3 6e gen 8go 1to blue',\n",
              "       'pc portable lenovo ideapad 11015isk i3 6e gen 8 go noir',\n",
              "       'lenovo pc portable ideapad 32015ikbn i5 7e gen 12go 1to blanc',\n",
              "       'pc portable lenovo 32015ast noir e29000 8go',\n",
              "       'pc portable lenovo ip32015isk i3 6e gen 12go 1to black',\n",
              "       'lenovo pc portable ideapad 32015ikbra i5 8e gen 20go 1to noir',\n",
              "       'lenovo pc portable ideapad 32015ikbra i5 8e gen 8go 1to blanc',\n",
              "       'lenovo pc portable ideapad 32015ikbn i5 7e gen 4go 1to bleu',\n",
              "       'lenovo pc portable ideapad 32015isk i3 6e gen 4go 1to rouge',\n",
              "       'lenovo pc portable ideapad 32015ikbn i5 7e gen 12go 1to bleu',\n",
              "       'lenovo pc portable ideapad 32015ikbn i5 7e gen 8go 1to bleu',\n",
              "       'asus pc portable x556uv i5 8go 1to',\n",
              "       'asus pc portable dual core 4 go 500 go noir',\n",
              "       'asus pc gamer light gaming x550vx i7 7e gen 16go 1to',\n",
              "       'pc portable hp omen 15ax204nk i7 7e gen 16 go',\n",
              "       'hp pc portable spectre x360 134000nf i5 5e gen 4 go 128 go ssd',\n",
              "       'hp pc portable 15ay006nk i56200u 4go 500go',\n",
              "       'pc portable hp elitebook 840 g4 i5 7e gen 4 go',\n",
              "       'pc portable hp x360 convertible 13ac002nk tactile i5 7e gen 4 go',\n",
              "       'pc portable hp spectre 13v100nk i5 7e gen 8go 256 go ssd argent',\n",
              "       'hp pc portable 15 cc005nk i5 7e gen 8 go',\n",
              "       'pc portable hp 15ra000nk dual core 4go 500go',\n",
              "       'hp pc gamer omen 15ax201nk i7 12go 1to 4go dediee',\n",
              "       'asus pc gamer strix gl503vd i7 7e gen 16 go 1to128 go ssd',\n",
              "       'asus pc portable x541uj i7 7e gen 8go 1to noir',\n",
              "       'pc portable hp omen 15ax209nk i7 7e gen 12 go tapis hp omen 1 ans iptv',\n",
              "       'pc portable hp elitebook 820 g4 i7 7e gen 8 go',\n",
              "       'pc portable hp omen 15ax209nk i7 7e gen 32 go',\n",
              "       'hp pc portable 15ay025nk celeron r n3060 4go 500go',\n",
              "       'pc portable hp spectre convertible x360 13ac003nk tactile i7 7e gen 8go 256 ssd',\n",
              "       'pc portable hp omen 15ax209nk i7 7e gen 16 go',\n",
              "       'pc portable hp envy 13ad001nk i5 7e gen 8 go',\n",
              "       'pc portable hp omen 15ce001nk i5 7e gen 12 go',\n",
              "       'pc gamer hp omen 17w200nk i7 7e gen 16 go',\n",
              "       'pc portable hp omen 15ce009nk i7 7e gen 8go 1to',\n",
              "       'hp pc portable envy 13d100nf i5 6e gen 8go 256go ssd',\n",
              "       'hp pc portable x36011ab002nk tactile dual core 4go 500go',\n",
              "       'portable hp pavilion 15ce006nk i7 7e gen 8 go',\n",
              "       'pc portable hp spectre 13v101nk i7 7e gen 8go 512go',\n",
              "       'hp pc portable envy 15ae001nk i5 5e gen 4 go 1',\n",
              "       'pc portable hp elitebook 840 g4 i7 7e gen 8 go',\n",
              "       'lenovo pc portable ideapad 32015ikbn i5 7e gen 16go 1to blanc',\n",
              "       'lenovo pc portable ideapad 32015ikbn i5 7e gen 20go 1to blanc',\n",
              "       'lenovo pc portable ideapad 32015ikbra i5 8e gen 8go 1to noir',\n",
              "       'lenovo pc gamer y520 i7 7e gen 8go 2to 4go',\n",
              "       'pc portable lenovo ideapad 11015ibr quad core 8go 500go noir',\n",
              "       'lenovo pc portable ideapad 32015ikbra i5 8e gen 8go 1to gris',\n",
              "       'lenovo pc portable ideapad 32015ikbra i5 8e gen 16go 1to blanc',\n",
              "       'lenovo pc portable ideapad 32015ikbrn i58250u 8go 1to noir',\n",
              "       'lenovo pc portable ideapad 32015ikbrn i58250u 12go 1to noir',\n",
              "       'pc portable lenovo 32015ast rouge e29000 4go',\n",
              "       'lenovo pc portable ideapad 32015ikbrn i7 12go 1to gris',\n",
              "       'lenovo pc portable ideapad 32015ikbra i5 8e gen 12go 1to gris',\n",
              "       'lenovo pc portable ideapad 32015ikbn i5 7e gen 8go 1to blanc',\n",
              "       'lenovo pc portable ideapad 32015ikbra i5 8e gen 20go 1to gris',\n",
              "       'lenovo pc portable ideapad 32015ikbn i5 7e gen 8go 1to gris',\n",
              "       'lenovo pc portable ideapad 32015isk i3 6e gen 8go 1to purple',\n",
              "       'lenovo pc portable ideapad 32015isk i3 6e gen 4go 1to bleu',\n",
              "       'pc portable lenovo ideapad 11015isk i3 6e gen 12 go noir',\n",
              "       'lenovo pc portable ideapad 32015isk i3 6e gen 4go 1to noir',\n",
              "       'pc portable lenovo ideapad 11015ibr dual core 8go 500go',\n",
              "       'lenovo pc portable ideapad 32015ikbra i5 8e gen 16go 1to gris',\n",
              "       'pc portable lenovo 32015ast bleu e29000 4go',\n",
              "       'lenovo pc portable ideapad 32015ikbrn i58250u 16go 1to noir',\n",
              "       'asus pc gamer strix i7 7e gen 12 go 1to128 go ssd souris gaming offerte',\n",
              "       'asus pc gamer strix gl703vm i7 7e gen 16go 1to256ssd',\n",
              "       'pc portable asus vivobook max i3 6e gen 4go 500go rouge',\n",
              "       'pc portable tactile dell inspiron 5378 i3 7e gen 4go 1to',\n",
              "       'pc portable tactile dell inspiron 5378 i5 7e gen 8 go',\n",
              "       'pc portable tactile dell inspiron 5378 i7 7e gen 8 go',\n",
              "       'pc portable dell xps i77500u 8go 256 go ssd silver',\n",
              "       'pc portable hp elitebook 850 g4 i7 7e gen 8 go',\n",
              "       'pc gamer asus strix g502vm i7 7e gen 16 go',\n",
              "       'pc portable asus strix gl503vd i5 7e gen 8 go',\n",
              "       'asus pc portable x541ua i3 6eme gen 4go 500go silver',\n",
              "       'pc portable asus x540lj i3 4e gen 8 go carte graphique nvidia geforce gt 920m',\n",
              "       'asus pc portable x541uj i7 7e gen 8go 1to blanc',\n",
              "       'asus pc portable x541uj i5 7e gen 8go 1to noir',\n",
              "       'pc portable asus strix gl753ve i7 7e gen 32 go',\n",
              "       'pc gamer asus strix gl753ve i7 7e gen 24 go',\n",
              "       'pc portable lenovo ideapad 11015ibr quad core 4go 500go noir',\n",
              "       'pc portable hp omen 15ce007nk i7 7e gen 16 go',\n",
              "       'hp pc portable 250 g5 i3 5eme gen 4go 500go noir',\n",
              "       'hp pc portable 15ay112nk i5 7e gen 8 go 1to',\n",
              "       'hp pc gamer omen 15ax203nk i5 7e gen',\n",
              "       'hp pc portable 15ay028nk celeron r n3060 4go 500go',\n",
              "       'hp pc portable 15ay027nk celeron r n3060 4go 500go',\n",
              "       'hp pc portable 15ay002nk celeron n3060 4go 500go',\n",
              "       'pc portable lenovo 32015ast rouge e29000 8go',\n",
              "       'lenovo pc portable ideapad 32015ikbn i5 7e gen 20go 1to gris',\n",
              "       'lenovo pc portable ideapad 32015ikbn i5 7e gen 20go 1to bleu',\n",
              "       'lenovo pc portable ideapad 32015isk i3 6e gen 8go 1to black',\n",
              "       'pc portable lenovo 32015ast noir e29000 4go',\n",
              "       'pc portable lenovo ip32015isk i3 6e gen 12go 1to blue',\n",
              "       'pc portable lenovo ip32015isk i3 6e gen 4go 1to violet',\n",
              "       'lenovo pc portable ideapad 32015ikbra i5 8e gen 12go 1to blanc',\n",
              "       'pc portable lenovo 32015ast gris e29000 8go',\n",
              "       'pc portable lenovo ideapad 11015isk i3 6e gen 4 go noir',\n",
              "       'lenovo pc gamer y520 i7 7e gen 8go 1to 4go',\n",
              "       'lenovo pc portable ideapad 32015isk i3 6e gen 8go 1to grey',\n",
              "       'pc portable lenovo 32015ast bleu e29000 8go',\n",
              "       'pc portable hp omen 15ce006nk i7 7e gen 12 go',\n",
              "       'pc portable hp 15bs012nk i3 6e gen 4go 500go noir',\n",
              "       'lenovo pc portable ideapad 32015ikbra i5 8e gen 4go 1to noir',\n",
              "       'lenovo pc portable ideapad 32015ikbrn i7 20go 1to gris',\n",
              "       'lenovo pc portable ideapad 32015ikbn i7 8go 1to noir',\n",
              "       'lenovo pc portable ideapad 32015ikbn i5 7e gen 16go 1to gris',\n",
              "       'pc portable dell vostro 5468 i7 7e gen 8 go gold',\n",
              "       'dell inspiron 3567 pc portable i3 6e gen 4go 500go',\n",
              "       'asus pc portable x541uj i7 7e gen 8go 1to bleu',\n",
              "       'pc portable hp notebook 15bs014nk i3 4go 500go gris',\n",
              "       'pc portable hp 15bs042nk i7 7e gen 8go 1to',\n",
              "       'lenovo pc portable ideapad 32015ikbrn i7 8go 1to gris',\n",
              "       'lenovo pc portable ideapad 32015ikbn i5 7e gen 12go 1to gris',\n",
              "       'lenovo pc portable ideapad 32015isk i3 6e gen 4go 1to gris',\n",
              "       'lenovo pc portable ideapad 11015ibr dual core 2go 500go',\n",
              "       'lenovo pc portable ideapad 32015ikbra i5 8e gen 4go 1to gris',\n",
              "       'pc portable dell inspiron 5570 i7 8e gen 8go 1to noir',\n",
              "       'pc portable dell inspiron 5570 i7 8e gen 8go 1to bleu',\n",
              "       'pc portable hp omen 15ax209nk i7 7e gen 24 go',\n",
              "       'pc gamer hp omen 155002nf i7 16go 512 go ssd',\n",
              "       'hp pc portable spectre x360 134150nf i5 6e ge 4go 128go ssd',\n",
              "       'lenovo pc portable ideapad 32015ikbrn i58250u 20go 1to noir',\n",
              "       'lenovo pc portable ideapad 32015isk i3 6e gen 8go 1to rouge',\n",
              "       'asus pc portable x541uj i5 7e gen 8go 1to rouge',\n",
              "       'asus pc gamer x550vxgo613d i7 7e gen 8 go',\n",
              "       'pc portable asus fx503vd i5 7e gen 8 go',\n",
              "       'lenovo pc portable ideapad 32015ikbrn i7 16go 1to gris',\n",
              "       'lenovo pc gamer y52015bn i5 7e gen 8go 1to noir',\n",
              "       'asus pc portable vivobook flip cel n3350 quadcore 2go 500go gray',\n",
              "       'pc portable lenovo ip32015isk i3 6e gen 12go 1to grey',\n",
              "       'lenovo pc portable ideapad 32015ikbn i5 7e gen 16go 1to bleu',\n",
              "       'pc portable lenovo 32015ast gris e29000 4go',\n",
              "       'lenovo pc portabe ideapad 51015ikb i7 7e gen 8go 1to metal',\n",
              "       'hp pc portable 15ay007nk i5 6200u 6go 1to',\n",
              "       'pc portable hp omen 15ax209nk i7 7e gen 20 go',\n",
              "       'hp pc portable pavilion 15bc000nk i5 6e gen 12go 1to 128go ssd',\n",
              "       'pc portable lenovo ip32015isk i3 6e gen 12go 1to red',\n",
              "       'pc portable lenovo ip32015isk i3 6e gen 12go 1to purple',\n",
              "       'pc portable asus x540lj i3 4e gen 4 go noir',\n",
              "       'pc portable asus fx503vd i7 7e gen 16 go',\n",
              "       'pc portable dell inspiron 5378 i5 7e gen 4 go',\n",
              "       'asus pc portable x541uj i7 7e gen 8go 1to silver',\n",
              "       'pc portable dell inspiron 5570 i5 8e gen 8go 1to bleu',\n",
              "       'lenovo pc portable ideapad 32015ikbra i5 8e gen 20go 1to blanc',\n",
              "       'pc portable hp omen 15ax209nk i7 7e gen 12 go tapis hp omen 1 iptv',\n",
              "       'pc portable hp 15bs012nk i3 6e gen 4go 500go noirsacoche hp originaleabonnement iptvbon dachat 20dt'],\n",
              "      dtype=object)"
            ]
          },
          "metadata": {
            "tags": []
          },
          "execution_count": 11
        }
      ]
    },
    {
      "cell_type": "markdown",
      "metadata": {
        "id": "q3YrdbJFB34l",
        "colab_type": "text"
      },
      "source": [
        "# Pipelines, GridSearch and Attributes Classification"
      ]
    },
    {
      "cell_type": "code",
      "metadata": {
        "trusted": true,
        "id": "Akb2pm74B34n",
        "colab_type": "code",
        "colab": {}
      },
      "source": [
        "# Prepare model -- Drop na and keep those with values\n",
        "def get_X_Y_data(x_col, y_col):\n",
        "    sub_df =  df[[x_col, y_col]]\n",
        "    sub_df.head()\n",
        "    sub_df = sub_df.dropna()\n",
        "    return sub_df[x_col], sub_df[y_col]"
      ],
      "execution_count": 0,
      "outputs": []
    },
    {
      "cell_type": "code",
      "metadata": {
        "id": "E2SwM0zAaUpw",
        "colab_type": "code",
        "colab": {
          "base_uri": "https://localhost:8080/",
          "height": 139
        },
        "outputId": "c0b6a553-7f85-4094-8de9-8f01503d9299"
      },
      "source": [
        "text_vect_pipe = Pipeline([\n",
        "                        ('vect', CountVectorizer()),\n",
        "                        ('tfidf', TfidfTransformer())\n",
        "                        ])\n",
        "\n",
        "pred_model = Pipeline([\n",
        "            ('process', text_vect_pipe),\n",
        "            ('clf', SGDClassifier(loss='hinge', penalty='l2',alpha=1e-3, random_state=42, max_iter=5, tol=None))\n",
        "            ])\n",
        "\n",
        "parameters = {}\n",
        "parameters['process__vect__ngram_range'] = [(0,1),(1,2),(1,3)]\n",
        "parameters['clf__loss'] = [\"hinge\"]\n",
        "parameters['clf__alpha'] = [5e-6,1e-5]\n",
        "\n",
        "X_train, X_test, y_train, y_test = train_test_split(X, y, test_size=0.3, random_state = 42)\n",
        "\n",
        "CV = GridSearchCV(pred_model, parameters)\n",
        "CV.fit(X_train, y_train)\n",
        "y_pred = CV.predict(X_test)\n",
        "    \n",
        "print('accuracy %s' % accuracy_score(y_pred, y_test))\n",
        "print(\"==\"*18)\n",
        "print()\n",
        "print(\"Details of GridSearch\")"
      ],
      "execution_count": 28,
      "outputs": [
        {
          "output_type": "stream",
          "text": [
            "/usr/local/lib/python3.6/dist-packages/sklearn/model_selection/_split.py:667: UserWarning: The least populated class in y has only 2 members, which is less than n_splits=5.\n",
            "  % (min_groups, self.n_splits)), UserWarning)\n"
          ],
          "name": "stderr"
        },
        {
          "output_type": "stream",
          "text": [
            "accuracy 0.9571544058205336\n",
            "====================================\n",
            "\n",
            "Details of GridSearch\n"
          ],
          "name": "stdout"
        }
      ]
    },
    {
      "cell_type": "markdown",
      "metadata": {
        "id": "GSYuf35KceNa",
        "colab_type": "text"
      },
      "source": [
        "#**Faisons une prediction**"
      ]
    },
    {
      "cell_type": "code",
      "metadata": {
        "id": "mQgbHChDc1xf",
        "colab_type": "code",
        "colab": {
          "base_uri": "https://localhost:8080/",
          "height": 221
        },
        "outputId": "12b63760-48cd-4697-eb75-6189970fe2b8"
      },
      "source": [
        "X_test"
      ],
      "execution_count": 31,
      "outputs": [
        {
          "output_type": "execute_result",
          "data": {
            "text/plain": [
              "11622    lenovo pc portable ideapad 32015ikbn i5 7e gen...\n",
              "2347                     pc de bureau dell optiplex 7020mt\n",
              "9202     lenovo pc portable ideapad 32015ikbra i5 8e ge...\n",
              "4953     lenovo pc portable ideapad 32015ikbra i5 8e ge...\n",
              "7528     lenovo pc portable ideapad 32015ikbn i5 7e gen...\n",
              "                               ...                        \n",
              "6270     lenovo pc portable ideapad 32015ikbn i5 7e gen...\n",
              "2650     pc de bureau dell vostro 3667 i3 6e gen 4 go 5...\n",
              "9892           pc portable lenovo 32015ast bleu e29000 8go\n",
              "3024     hp pc de bureau prodesk 400 g3 i5 6e gen 4 go ...\n",
              "12246    lenovo pc portable ideapad 32015ikbra i5 8e ge...\n",
              "Name: title1, Length: 3711, dtype: object"
            ]
          },
          "metadata": {
            "tags": []
          },
          "execution_count": 31
        }
      ]
    },
    {
      "cell_type": "code",
      "metadata": {
        "id": "cg3TBCGTbLXb",
        "colab_type": "code",
        "colab": {}
      },
      "source": [
        "new=CV.predict(['pc de bureau dell optiplex 7020mt'])"
      ],
      "execution_count": 0,
      "outputs": []
    },
    {
      "cell_type": "code",
      "metadata": {
        "id": "Ic6of5bGbchZ",
        "colab_type": "code",
        "colab": {
          "base_uri": "https://localhost:8080/",
          "height": 71
        },
        "outputId": "136ecf01-c573-47c7-b129-74f2933bba21"
      },
      "source": [
        "new"
      ],
      "execution_count": 33,
      "outputs": [
        {
          "output_type": "execute_result",
          "data": {
            "text/plain": [
              "array(['PC de bureau\\xa0DELL Optiplex 7020MT Intel® Core™ i3-4160 (3.1GHz,3M)\\xa0/4GB (1x4GB)1600MHz DDR3 up to 8GB / 500GB SATA III(7200Rpm)\\xa0/Integrated Intel® HD Graphics 4600 /2 external USB 3.0 ports ;6 external USB 2.0 ports 1 VGA/\\xa0Graveur DVD 16X DVD+/-RW Drive\\xa0/free Dos/\\xa0Garantie 3 ans'],\n",
              "      dtype='<U398')"
            ]
          },
          "metadata": {
            "tags": []
          },
          "execution_count": 33
        }
      ]
    }
  ]
}